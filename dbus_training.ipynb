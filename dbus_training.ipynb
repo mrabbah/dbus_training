{
 "cells": [
  {
   "cell_type": "markdown",
   "metadata": {},
   "source": [
    "# DBus training\n",
    "The goal of this trainin is to know how to work with Dbus, so we will follow thoses steps:\n",
    "1- Connect to system Dbus object and write/read values\n",
    "2- Publish a custom event using dbus and read/write values\n",
    "\n",
    "## Basics\n",
    "The following demonstration was run in Ubuntu 16.04\n",
    "* Connection to the Bus:\n",
    "Applications that use D-Bus typically connect to a (session or system) bus daemon, which forwards messages between the applications. To use D-Bus, you need to create a Bus object representing the connection to the bus daemon.\n",
    "First of all install the necessary dependencies:\n",
    "~~~\n",
    "sudo apt-get install libdbus-1-dev\n",
    "sudo apt-get install libdbus-glib-1-dev\n",
    "sudo pip install dbus-python\n",
    "sudo apt-get install python-dbus\n",
    "sudo apt-get install python3-dbus #for python 3\n",
    "~~~"
   ]
  },
  {
   "cell_type": "code",
   "execution_count": 1,
   "metadata": {},
   "outputs": [],
   "source": [
    "import dbus"
   ]
  },
  {
   "cell_type": "code",
   "execution_count": 2,
   "metadata": {},
   "outputs": [],
   "source": [
    "session_bus = dbus.SessionBus() # to get session bus\n",
    "system_bus = dbus.SystemBus() # get system bus"
   ]
  },
  {
   "cell_type": "markdown",
   "metadata": {},
   "source": [
    "* Making method calls\n",
    "D-Bus applications can export objects for other applications' use. To start working with an object in another application, you need to know:\n",
    "- The bus name such as org.freedesktop.NetworkManager\n",
    "- The object path. Applications can export many objects - for instance. As you'd expect, one of the main things you can do with remote objects is to call their methods. As in Python, methods may have parameters, and they may return one or more values.\n",
    "\n",
    "## Connect to a system Dbus object and read values\n",
    "To interact with a remote object, you use a proxy object. This is a Python object which acts as a proxy or \"stand-in\" for the remote object - when you call a method on a proxy object, this causes dbus-python to make a method call on the remote object, passing back any return values from the remote object's method as the return values of the proxy method call.\n",
    "For example, NetworkManager has the well-known name org.freedesktop.NetworkManager and exports an object whose object path is /org/freedesktop/NetworkManager. \n",
    "To can get a proxy for the object representing the network manager we must do :"
   ]
  },
  {
   "cell_type": "code",
   "execution_count": 3,
   "metadata": {},
   "outputs": [],
   "source": [
    "proxy = system_bus.get_object('org.freedesktop.NetworkManager', '/org/freedesktop/NetworkManager')"
   ]
  },
  {
   "cell_type": "markdown",
   "metadata": {},
   "source": [
    "After that we retreive the manager or the interface of this proxy"
   ]
  },
  {
   "cell_type": "code",
   "execution_count": 5,
   "metadata": {},
   "outputs": [],
   "source": [
    "manager = dbus.Interface(proxy, \"org.freedesktop.NetworkManager\")"
   ]
  },
  {
   "cell_type": "markdown",
   "metadata": {},
   "source": [
    "After we can get devices's specific state :"
   ]
  },
  {
   "cell_type": "code",
   "execution_count": 17,
   "metadata": {},
   "outputs": [
    {
     "name": "stdout",
     "output_type": "stream",
     "text": [
      "Devices wlp2s0 is activated and has type 2 and address 10.10.0.222\n",
      "Devices lo is activated and has type 14 and address 127.0.0.1\n",
      "Devices virbr0 is activated and has type 13 and address 192.168.122.1\n",
      "Devices virbr0-nic is activated and has type 16 and address 0.0.0.0\n"
     ]
    }
   ],
   "source": [
    "import socket, struct\n",
    "devices = manager.GetDevices()\n",
    "for device in devices:\n",
    "    device_proxy = system_bus.get_object(\"org.freedesktop.NetworkManager\", device)\n",
    "    iface_properties = dbus.Interface(device_proxy, \n",
    "                                      \"org.freedesktop.DBus.Properties\")\n",
    "    # Get the devices's current state and interface name\n",
    "    state = iface_properties.Get(\"org.freedesktop.NetworkManager.Device\", \n",
    "                                \"State\")\n",
    "    \n",
    "    name = iface_properties.Get(\"org.freedesktop.NetworkManager.Device\",\n",
    "                               \"Interface\")\n",
    "    ifa = \"org.freedesktop.NetworkManager.Device\"\n",
    "    type = iface_properties.Get(ifa, \"DeviceType\")\n",
    "    addr = iface_properties.Get(ifa, \"Ip4Address\")\n",
    "    \n",
    "    # print the result\n",
    "    addr_dotted = socket.inet_ntoa(struct.pack('<L', addr))\n",
    "    s = \"Devices %s is activated and has type %s and address %s\"\n",
    "    print(s % (name, type, addr_dotted))"
   ]
  },
  {
   "cell_type": "markdown",
   "metadata": {},
   "source": [
    "## Write value to existing DBus object\n",
    "Lets send notification to user in its Desktop throw the org.freedesktop.Notifications object:"
   ]
  },
  {
   "cell_type": "code",
   "execution_count": 18,
   "metadata": {},
   "outputs": [
    {
     "data": {
      "text/plain": [
       "dbus.UInt32(1L)"
      ]
     },
     "execution_count": 18,
     "metadata": {},
     "output_type": "execute_result"
    }
   ],
   "source": [
    "item              = \"org.freedesktop.Notifications\"\n",
    "path              = \"/org/freedesktop/Notifications\"\n",
    "interface         = \"org.freedesktop.Notifications\"\n",
    "app_name          = \"My Great Application\"\n",
    "id_num_to_replace = 0\n",
    "icon              = \"/usr/share/icons/cab_view.png\"\n",
    "title             = \"Notification Title\"\n",
    "text              = \"This is the body\"\n",
    "actions_list      = ''\n",
    "hint              = ''\n",
    "time              = 5000   # Use seconds x 1000\n",
    "\n",
    "notify_proxy = session_bus.get_object(item, path)\n",
    "notify_interface = dbus.Interface(notify_proxy, interface)\n",
    "notify_interface.Notify(app_name, id_num_to_replace, icon, \n",
    "                        title, text, actions_list, hint, time)"
   ]
  },
  {
   "cell_type": "code",
   "execution_count": null,
   "metadata": {},
   "outputs": [],
   "source": []
  }
 ],
 "metadata": {
  "kernelspec": {
   "display_name": "Python 3",
   "language": "python",
   "name": "python3"
  },
  "language_info": {
   "codemirror_mode": {
    "name": "ipython",
    "version": 2
   },
   "file_extension": ".py",
   "mimetype": "text/x-python",
   "name": "python",
   "nbconvert_exporter": "python",
   "pygments_lexer": "ipython2",
   "version": "2.7.12"
  }
 },
 "nbformat": 4,
 "nbformat_minor": 2
}
