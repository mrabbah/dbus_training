{
 "cells": [
  {
   "cell_type": "markdown",
   "metadata": {},
   "source": [
    "# DBus publish a service \n",
    "This tutorial aim to give you first steps to publish a DBus service,\n",
    "\n",
    "## PyGObject Installation\n",
    "first of all you must configure your environment following those command:\n",
    "~~~\n",
    "git clone git://git.gnome.org/jhbuild\n",
    "cd jhbuild\n",
    "./autogen.sh\n",
    "make \n",
    "make install\n",
    "sudo apt-get install libtool\n",
    "sudo apt-get install autoconf\n",
    "sudo apt-get install flex\n",
    "sudo apt-get install bison\n",
    "sudo apt-get install apt-file \n",
    "apt-file update\n",
    "jhbuild sysdeps --install\n",
    "jhbuild sanitycheck # This command show you if any pre-requist still needed\n",
    "jhbuild build pygobject #Dont forget take cofee and just wait...\n",
    "~~~\n"
   ]
  }
 ],
 "metadata": {
  "kernelspec": {
   "display_name": "Python 3",
   "language": "python",
   "name": "python3"
  },
  "language_info": {
   "codemirror_mode": {
    "name": "ipython",
    "version": 2
   },
   "file_extension": ".py",
   "mimetype": "text/x-python",
   "name": "python",
   "nbconvert_exporter": "python",
   "pygments_lexer": "ipython2",
   "version": "2.7.12"
  }
 },
 "nbformat": 4,
 "nbformat_minor": 2
}
