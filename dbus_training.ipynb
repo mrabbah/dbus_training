{
 "cells": [
  {
   "cell_type": "markdown",
   "metadata": {},
   "source": [
    "# DBus Getting started\n",
    "The goal of this trainin is to know how to work with Dbus, so we will follow thoses steps:\n",
    "1- Connect to system Dbus object and write/read values\n",
    "2- Publish a custom event using dbus and read/write values\n",
    "\n",
    "## Basics\n",
    "The following demonstration was run in Ubuntu 16.04\n",
    "* Connection to the Bus:\n",
    "Applications that use D-Bus typically connect to a (session or system) bus daemon, which forwards messages between the applications. To use D-Bus, you need to create a Bus object representing the connection to the bus daemon.\n",
    "First of all install the necessary dependencies:\n",
    "~~~\n",
    "sudo apt-get install libdbus-1-dev\n",
    "sudo apt-get install libdbus-glib-1-dev\n",
    "sudo pip install dbus-python\n",
    "sudo apt-get install python-dbus\n",
    "sudo apt-get install python3-dbus #for python 3\n",
    "~~~"
   ]
  },
  {
   "cell_type": "code",
   "execution_count": 1,
   "metadata": {},
   "outputs": [],
   "source": [
    "import dbus"
   ]
  },
  {
   "cell_type": "code",
   "execution_count": 2,
   "metadata": {},
   "outputs": [],
   "source": [
    "session_bus = dbus.SessionBus() # to get session bus\n",
    "system_bus = dbus.SystemBus() # get system bus"
   ]
  },
  {
   "cell_type": "markdown",
   "metadata": {},
   "source": [
    "* Making method calls\n",
    "D-Bus applications can export objects for other applications' use. To start working with an object in another application, you need to know:\n",
    "- The bus name such as org.freedesktop.NetworkManager\n",
    "- The object path. Applications can export many objects - for instance. As you'd expect, one of the main things you can do with remote objects is to call their methods. As in Python, methods may have parameters, and they may return one or more values.\n",
    "\n",
    "## Connect to a system Dbus object and read values\n",
    "To interact with a remote object, you use a proxy object. This is a Python object which acts as a proxy or \"stand-in\" for the remote object - when you call a method on a proxy object, this causes dbus-python to make a method call on the remote object, passing back any return values from the remote object's method as the return values of the proxy method call.\n",
    "For example, NetworkManager has the well-known name org.freedesktop.NetworkManager and exports an object whose object path is /org/freedesktop/NetworkManager. \n",
    "To can get a proxy for the object representing the network manager we must do :"
   ]
  },
  {
   "cell_type": "code",
   "execution_count": 3,
   "metadata": {},
   "outputs": [],
   "source": [
    "proxy = system_bus.get_object('org.freedesktop.NetworkManager', '/org/freedesktop/NetworkManager')"
   ]
  },
  {
   "cell_type": "markdown",
   "metadata": {},
   "source": [
    "After that we retreive the manager or the interface of this proxy"
   ]
  },
  {
   "cell_type": "code",
   "execution_count": 5,
   "metadata": {},
   "outputs": [],
   "source": [
    "manager = dbus.Interface(proxy, \"org.freedesktop.NetworkManager\")"
   ]
  },
  {
   "cell_type": "markdown",
   "metadata": {},
   "source": [
    "After we can get devices's specific state :"
   ]
  },
  {
   "cell_type": "code",
   "execution_count": 17,
   "metadata": {},
   "outputs": [
    {
     "name": "stdout",
     "output_type": "stream",
     "text": [
      "Devices wlp2s0 is activated and has type 2 and address 10.10.0.222\n",
      "Devices lo is activated and has type 14 and address 127.0.0.1\n",
      "Devices virbr0 is activated and has type 13 and address 192.168.122.1\n",
      "Devices virbr0-nic is activated and has type 16 and address 0.0.0.0\n"
     ]
    }
   ],
   "source": [
    "import socket, struct\n",
    "devices = manager.GetDevices()\n",
    "for device in devices:\n",
    "    device_proxy = system_bus.get_object(\"org.freedesktop.NetworkManager\", device)\n",
    "    iface_properties = dbus.Interface(device_proxy, \n",
    "                                      \"org.freedesktop.DBus.Properties\")\n",
    "    # Get the devices's current state and interface name\n",
    "    state = iface_properties.Get(\"org.freedesktop.NetworkManager.Device\", \n",
    "                                \"State\")\n",
    "    \n",
    "    name = iface_properties.Get(\"org.freedesktop.NetworkManager.Device\",\n",
    "                               \"Interface\")\n",
    "    ifa = \"org.freedesktop.NetworkManager.Device\"\n",
    "    type = iface_properties.Get(ifa, \"DeviceType\")\n",
    "    addr = iface_properties.Get(ifa, \"Ip4Address\")\n",
    "    \n",
    "    # print the result\n",
    "    addr_dotted = socket.inet_ntoa(struct.pack('<L', addr))\n",
    "    s = \"Devices %s is activated and has type %s and address %s\"\n",
    "    print(s % (name, type, addr_dotted))"
   ]
  },
  {
   "cell_type": "markdown",
   "metadata": {},
   "source": [
    "## Write value to existing DBus object\n",
    "Lets send notification to user in its Desktop throw the org.freedesktop.Notifications object:"
   ]
  },
  {
   "cell_type": "code",
   "execution_count": 20,
   "metadata": {},
   "outputs": [
    {
     "data": {
      "text/plain": [
       "dbus.UInt32(3L)"
      ]
     },
     "execution_count": 20,
     "metadata": {},
     "output_type": "execute_result"
    }
   ],
   "source": [
    "item              = \"org.freedesktop.Notifications\"\n",
    "path              = \"/org/freedesktop/Notifications\"\n",
    "interface         = \"org.freedesktop.Notifications\"\n",
    "app_name          = \"My Great Application\"\n",
    "id_num_to_replace = 0\n",
    "icon              = \"/usr/share/icons/cab_view.png\"\n",
    "title             = \"Notification Title\"\n",
    "text              = \"This is the body\"\n",
    "actions_list      = ''\n",
    "hint              = ''\n",
    "time              = 5000   # Use seconds x 1000\n",
    "\n",
    "notify_proxy = session_bus.get_object(item, path)\n",
    "notify_interface = dbus.Interface(notify_proxy, interface)\n",
    "notify_interface.Notify(app_name, id_num_to_replace, icon, \n",
    "                        title, text, actions_list, hint, time)"
   ]
  },
  {
   "cell_type": "markdown",
   "metadata": {},
   "source": [
    "the result should look like this:\n",
    "\n",
    "![Notification result](notify_result.png)\n"
   ]
  },
  {
   "cell_type": "markdown",
   "metadata": {},
   "source": [
    "## Introcpecting an object:\n"
   ]
  },
  {
   "cell_type": "code",
   "execution_count": 30,
   "metadata": {},
   "outputs": [
    {
     "name": "stdout",
     "output_type": "stream",
     "text": [
      "<!DOCTYPE node PUBLIC \"-//freedesktop//DTD D-BUS Object Introspection 1.0//EN\"\n",
      "                      \"http://www.freedesktop.org/standards/dbus/1.0/introspect.dtd\">\n",
      "<!-- GDBus 2.48.2 -->\n",
      "<node>\n",
      "  <interface name=\"org.freedesktop.DBus.Properties\">\n",
      "    <method name=\"Get\">\n",
      "      <arg type=\"s\" name=\"interface_name\" direction=\"in\"/>\n",
      "      <arg type=\"s\" name=\"property_name\" direction=\"in\"/>\n",
      "      <arg type=\"v\" name=\"value\" direction=\"out\"/>\n",
      "    </method>\n",
      "    <method name=\"GetAll\">\n",
      "      <arg type=\"s\" name=\"interface_name\" direction=\"in\"/>\n",
      "      <arg type=\"a{sv}\" name=\"properties\" direction=\"out\"/>\n",
      "    </method>\n",
      "    <method name=\"Set\">\n",
      "      <arg type=\"s\" name=\"interface_name\" direction=\"in\"/>\n",
      "      <arg type=\"s\" name=\"property_name\" direction=\"in\"/>\n",
      "      <arg type=\"v\" name=\"value\" direction=\"in\"/>\n",
      "    </method>\n",
      "    <signal name=\"PropertiesChanged\">\n",
      "      <arg type=\"s\" name=\"interface_name\"/>\n",
      "      <arg type=\"a{sv}\" name=\"changed_properties\"/>\n",
      "      <arg type=\"as\" name=\"invalidated_properties\"/>\n",
      "    </signal>\n",
      "  </interface>\n",
      "  <interface name=\"org.freedesktop.DBus.Introspectable\">\n",
      "    <method name=\"Introspect\">\n",
      "      <arg type=\"s\" name=\"xml_data\" direction=\"out\"/>\n",
      "    </method>\n",
      "  </interface>\n",
      "  <interface name=\"org.freedesktop.DBus.Peer\">\n",
      "    <method name=\"Ping\"/>\n",
      "    <method name=\"GetMachineId\">\n",
      "      <arg type=\"s\" name=\"machine_uuid\" direction=\"out\"/>\n",
      "    </method>\n",
      "  </interface>\n",
      "  <interface name=\"org.freedesktop.NetworkManager\">\n",
      "    <method name=\"Reload\">\n",
      "      <arg type=\"u\" name=\"flags\" direction=\"in\"/>\n",
      "    </method>\n",
      "    <method name=\"GetDevices\">\n",
      "      <arg type=\"ao\" name=\"devices\" direction=\"out\"/>\n",
      "    </method>\n",
      "    <method name=\"GetAllDevices\">\n",
      "      <annotation name=\"org.freedesktop.DBus.GLib.CSymbol\" value=\"impl_manager_get_all_devices\"/>\n",
      "      <arg type=\"ao\" name=\"devices\" direction=\"out\"/>\n",
      "    </method>\n",
      "    <method name=\"GetDeviceByIpIface\">\n",
      "      <arg type=\"s\" name=\"iface\" direction=\"in\"/>\n",
      "      <arg type=\"o\" name=\"device\" direction=\"out\"/>\n",
      "    </method>\n",
      "    <method name=\"ActivateConnection\">\n",
      "      <arg type=\"o\" name=\"connection\" direction=\"in\"/>\n",
      "      <arg type=\"o\" name=\"device\" direction=\"in\"/>\n",
      "      <arg type=\"o\" name=\"specific_object\" direction=\"in\"/>\n",
      "      <arg type=\"o\" name=\"active_connection\" direction=\"out\"/>\n",
      "    </method>\n",
      "    <method name=\"AddAndActivateConnection\">\n",
      "      <arg type=\"a{sa{sv}}\" name=\"connection\" direction=\"in\"/>\n",
      "      <arg type=\"o\" name=\"device\" direction=\"in\"/>\n",
      "      <arg type=\"o\" name=\"specific_object\" direction=\"in\"/>\n",
      "      <arg type=\"o\" name=\"path\" direction=\"out\"/>\n",
      "      <arg type=\"o\" name=\"active_connection\" direction=\"out\"/>\n",
      "    </method>\n",
      "    <method name=\"DeactivateConnection\">\n",
      "      <arg type=\"o\" name=\"active_connection\" direction=\"in\"/>\n",
      "    </method>\n",
      "    <method name=\"Sleep\">\n",
      "      <arg type=\"b\" name=\"sleep\" direction=\"in\"/>\n",
      "    </method>\n",
      "    <method name=\"Enable\">\n",
      "      <arg type=\"b\" name=\"enable\" direction=\"in\"/>\n",
      "    </method>\n",
      "    <method name=\"GetPermissions\">\n",
      "      <arg type=\"a{ss}\" name=\"permissions\" direction=\"out\"/>\n",
      "    </method>\n",
      "    <method name=\"SetLogging\">\n",
      "      <arg type=\"s\" name=\"level\" direction=\"in\"/>\n",
      "      <arg type=\"s\" name=\"domains\" direction=\"in\"/>\n",
      "    </method>\n",
      "    <method name=\"GetLogging\">\n",
      "      <arg type=\"s\" name=\"level\" direction=\"out\"/>\n",
      "      <arg type=\"s\" name=\"domains\" direction=\"out\"/>\n",
      "    </method>\n",
      "    <method name=\"CheckConnectivity\">\n",
      "      <arg type=\"u\" name=\"connectivity\" direction=\"out\"/>\n",
      "    </method>\n",
      "    <method name=\"state\">\n",
      "      <arg type=\"u\" name=\"state\" direction=\"out\"/>\n",
      "    </method>\n",
      "    <signal name=\"CheckPermissions\"/>\n",
      "    <signal name=\"StateChanged\">\n",
      "      <arg type=\"u\" name=\"state\"/>\n",
      "    </signal>\n",
      "    <signal name=\"PropertiesChanged\">\n",
      "      <arg type=\"a{sv}\" name=\"properties\"/>\n",
      "    </signal>\n",
      "    <signal name=\"DeviceAdded\">\n",
      "      <arg type=\"o\" name=\"device_path\"/>\n",
      "    </signal>\n",
      "    <signal name=\"DeviceRemoved\">\n",
      "      <arg type=\"o\" name=\"device_path\"/>\n",
      "    </signal>\n",
      "    <property type=\"ao\" name=\"Devices\" access=\"read\"/>\n",
      "    <property type=\"ao\" name=\"AllDevices\" access=\"read\"/>\n",
      "    <property type=\"b\" name=\"NetworkingEnabled\" access=\"read\"/>\n",
      "    <property type=\"b\" name=\"WirelessEnabled\" access=\"readwrite\"/>\n",
      "    <property type=\"b\" name=\"WirelessHardwareEnabled\" access=\"read\"/>\n",
      "    <property type=\"b\" name=\"WwanEnabled\" access=\"readwrite\"/>\n",
      "    <property type=\"b\" name=\"WwanHardwareEnabled\" access=\"read\"/>\n",
      "    <property type=\"b\" name=\"WimaxEnabled\" access=\"readwrite\"/>\n",
      "    <property type=\"b\" name=\"WimaxHardwareEnabled\" access=\"read\"/>\n",
      "    <property type=\"ao\" name=\"ActiveConnections\" access=\"read\"/>\n",
      "    <property type=\"o\" name=\"PrimaryConnection\" access=\"read\"/>\n",
      "    <property type=\"s\" name=\"PrimaryConnectionType\" access=\"read\"/>\n",
      "    <property type=\"u\" name=\"Metered\" access=\"read\"/>\n",
      "    <property type=\"o\" name=\"ActivatingConnection\" access=\"read\"/>\n",
      "    <property type=\"b\" name=\"Startup\" access=\"read\"/>\n",
      "    <property type=\"s\" name=\"Version\" access=\"read\"/>\n",
      "    <property type=\"u\" name=\"State\" access=\"read\"/>\n",
      "    <property type=\"u\" name=\"Connectivity\" access=\"read\"/>\n",
      "    <property type=\"a{sv}\" name=\"GlobalDnsConfiguration\" access=\"readwrite\"/>\n",
      "  </interface>\n",
      "  <node name=\"DHCP4Config\"/>\n",
      "  <node name=\"ActiveConnection\"/>\n",
      "  <node name=\"AccessPoint\"/>\n",
      "  <node name=\"Devices\"/>\n",
      "  <node name=\"AgentManager\"/>\n",
      "  <node name=\"Settings\"/>\n",
      "  <node name=\"IP6Config\"/>\n",
      "  <node name=\"IP4Config\"/>\n",
      "</node>\n",
      "\n"
     ]
    }
   ],
   "source": [
    "nmanager_object = system_bus.get_object(\n",
    "    'org.freedesktop.NetworkManager',          # service\n",
    "    '/org/freedesktop/NetworkManager'  # published object\n",
    ")\n",
    "introspection_interface = dbus.Interface(\n",
    "    nmanager_object,\n",
    "    dbus.INTROSPECTABLE_IFACE,\n",
    ")\n",
    "# Introspectable interfaces define a property 'Introspect' that\n",
    "# will return an XML string that describes the object's interface\n",
    "interface = introspection_interface.Introspect()\n",
    "print(interface)"
   ]
  },
  {
   "cell_type": "code",
   "execution_count": null,
   "metadata": {},
   "outputs": [],
   "source": []
  }
 ],
 "metadata": {
  "kernelspec": {
   "display_name": "Python 3",
   "language": "python",
   "name": "python3"
  },
  "language_info": {
   "codemirror_mode": {
    "name": "ipython",
    "version": 2
   },
   "file_extension": ".py",
   "mimetype": "text/x-python",
   "name": "python",
   "nbconvert_exporter": "python",
   "pygments_lexer": "ipython2",
   "version": "2.7.12"
  }
 },
 "nbformat": 4,
 "nbformat_minor": 2
}
